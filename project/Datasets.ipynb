{
 "cells": [
  {
   "cell_type": "code",
   "execution_count": 7,
   "id": "initial_id",
   "metadata": {
    "collapsed": true,
    "ExecuteTime": {
     "end_time": "2024-11-10T01:16:05.436121Z",
     "start_time": "2024-11-10T01:16:05.431649Z"
    }
   },
   "outputs": [],
   "source": [
    "# Data manipulation and visualization\n",
    "import numpy as np\n",
    "import pandas as pd\n",
    "import matplotlib.pyplot as plt\n",
    "import seaborn as sns\n",
    "\n",
    "# Machine learning models\n",
    "from sklearn.model_selection import train_test_split\n",
    "from sklearn.preprocessing import StandardScaler, LabelEncoder\n",
    "from sklearn.metrics import (\n",
    "    mean_squared_error,\n",
    "    r2_score,\n",
    "    accuracy_score,\n",
    "    classification_report,\n",
    ")\n",
    "from sklearn.linear_model import LinearRegression, LogisticRegression\n",
    "from sklearn.ensemble import RandomForestRegressor, RandomForestClassifier\n",
    "\n",
    "# Artificial Neural Networks\n",
    "from tensorflow.keras.models import Sequential\n",
    "from tensorflow.keras.layers import Dense\n",
    "\n",
    "# Explainability tools\n",
    "import shap\n",
    "from lime.lime_tabular import LimeTabularExplainer\n",
    "\n",
    "# Suppress warnings for cleaner output\n",
    "import warnings\n",
    "warnings.filterwarnings(\"ignore\")\n",
    "\n",
    "# For Jupyter notebook\n",
    "%matplotlib inline\n"
   ]
  },
  {
   "cell_type": "code",
   "outputs": [
    {
     "data": {
      "text/plain": "      CRIM    ZN  INDUS  CHAS    NOX     RM   AGE     DIS  RAD  TAX  PTRATIO  \\\n0  0.00632  18.0   2.31   0.0  0.538  6.575  65.2  4.0900    1  296     15.3   \n1  0.02731   0.0   7.07   0.0  0.469  6.421  78.9  4.9671    2  242     17.8   \n2  0.02729   0.0   7.07   0.0  0.469  7.185  61.1  4.9671    2  242     17.8   \n3  0.03237   0.0   2.18   0.0  0.458  6.998  45.8  6.0622    3  222     18.7   \n4  0.06905   0.0   2.18   0.0  0.458  7.147  54.2  6.0622    3  222     18.7   \n\n        B  LSTAT  MEDV  \n0  396.90   4.98  24.0  \n1  396.90   9.14  21.6  \n2  392.83   4.03  34.7  \n3  394.63   2.94  33.4  \n4  396.90    NaN  36.2  ",
      "text/html": "<div>\n<style scoped>\n    .dataframe tbody tr th:only-of-type {\n        vertical-align: middle;\n    }\n\n    .dataframe tbody tr th {\n        vertical-align: top;\n    }\n\n    .dataframe thead th {\n        text-align: right;\n    }\n</style>\n<table border=\"1\" class=\"dataframe\">\n  <thead>\n    <tr style=\"text-align: right;\">\n      <th></th>\n      <th>CRIM</th>\n      <th>ZN</th>\n      <th>INDUS</th>\n      <th>CHAS</th>\n      <th>NOX</th>\n      <th>RM</th>\n      <th>AGE</th>\n      <th>DIS</th>\n      <th>RAD</th>\n      <th>TAX</th>\n      <th>PTRATIO</th>\n      <th>B</th>\n      <th>LSTAT</th>\n      <th>MEDV</th>\n    </tr>\n  </thead>\n  <tbody>\n    <tr>\n      <th>0</th>\n      <td>0.00632</td>\n      <td>18.0</td>\n      <td>2.31</td>\n      <td>0.0</td>\n      <td>0.538</td>\n      <td>6.575</td>\n      <td>65.2</td>\n      <td>4.0900</td>\n      <td>1</td>\n      <td>296</td>\n      <td>15.3</td>\n      <td>396.90</td>\n      <td>4.98</td>\n      <td>24.0</td>\n    </tr>\n    <tr>\n      <th>1</th>\n      <td>0.02731</td>\n      <td>0.0</td>\n      <td>7.07</td>\n      <td>0.0</td>\n      <td>0.469</td>\n      <td>6.421</td>\n      <td>78.9</td>\n      <td>4.9671</td>\n      <td>2</td>\n      <td>242</td>\n      <td>17.8</td>\n      <td>396.90</td>\n      <td>9.14</td>\n      <td>21.6</td>\n    </tr>\n    <tr>\n      <th>2</th>\n      <td>0.02729</td>\n      <td>0.0</td>\n      <td>7.07</td>\n      <td>0.0</td>\n      <td>0.469</td>\n      <td>7.185</td>\n      <td>61.1</td>\n      <td>4.9671</td>\n      <td>2</td>\n      <td>242</td>\n      <td>17.8</td>\n      <td>392.83</td>\n      <td>4.03</td>\n      <td>34.7</td>\n    </tr>\n    <tr>\n      <th>3</th>\n      <td>0.03237</td>\n      <td>0.0</td>\n      <td>2.18</td>\n      <td>0.0</td>\n      <td>0.458</td>\n      <td>6.998</td>\n      <td>45.8</td>\n      <td>6.0622</td>\n      <td>3</td>\n      <td>222</td>\n      <td>18.7</td>\n      <td>394.63</td>\n      <td>2.94</td>\n      <td>33.4</td>\n    </tr>\n    <tr>\n      <th>4</th>\n      <td>0.06905</td>\n      <td>0.0</td>\n      <td>2.18</td>\n      <td>0.0</td>\n      <td>0.458</td>\n      <td>7.147</td>\n      <td>54.2</td>\n      <td>6.0622</td>\n      <td>3</td>\n      <td>222</td>\n      <td>18.7</td>\n      <td>396.90</td>\n      <td>NaN</td>\n      <td>36.2</td>\n    </tr>\n  </tbody>\n</table>\n</div>"
     },
     "execution_count": 8,
     "metadata": {},
     "output_type": "execute_result"
    }
   ],
   "source": [
    "# Load Housing Dataset\n",
    "housing = pd.read_csv('datasets/housing.csv')\n",
    "\n",
    "# Display the first few rows\n",
    "housing.head()\n"
   ],
   "metadata": {
    "collapsed": false,
    "ExecuteTime": {
     "end_time": "2024-11-10T01:16:12.093286Z",
     "start_time": "2024-11-10T01:16:12.021502Z"
    }
   },
   "id": "dc42030492a379bd",
   "execution_count": 8
  },
  {
   "cell_type": "code",
   "outputs": [
    {
     "name": "stdout",
     "output_type": "stream",
     "text": [
      "Features shape: (506, 13)\n",
      "Target shape: (506,)\n"
     ]
    }
   ],
   "source": [
    "# Check for target column\n",
    "if 'MEDV' in housing.columns:\n",
    "    target_column = 'MEDV'\n",
    "elif 'Price' in housing.columns:\n",
    "    target_column = 'Price'\n",
    "else:\n",
    "    print(\"Available columns:\", housing.columns.tolist())\n",
    "    target_column = input(\"Enter the target column name from the above list: \")\n",
    "\n",
    "# Separate features and target\n",
    "X_housing = housing.drop(columns=[target_column])\n",
    "y_housing = housing[target_column]\n",
    "\n",
    "# Display shapes\n",
    "print(f\"Features shape: {X_housing.shape}\")\n",
    "print(f\"Target shape: {y_housing.shape}\")\n"
   ],
   "metadata": {
    "collapsed": false,
    "ExecuteTime": {
     "end_time": "2024-11-10T01:16:22.409730Z",
     "start_time": "2024-11-10T01:16:22.405563Z"
    }
   },
   "id": "30f0d34723561e23",
   "execution_count": 9
  },
  {
   "cell_type": "code",
   "outputs": [
    {
     "data": {
      "text/plain": "   barrels08  barrelsA08  charge120  charge240  city08  city08U  cityA08  \\\n0  15.695714         0.0        0.0        0.0      19      0.0        0   \n1  29.964545         0.0        0.0        0.0       9      0.0        0   \n2  12.207778         0.0        0.0        0.0      23      0.0        0   \n3  29.964545         0.0        0.0        0.0      10      0.0        0   \n4  17.347895         0.0        0.0        0.0      17      0.0        0   \n\n   cityA08U  cityCD  cityE  ...  mfrCode  c240Dscr  charge240b  c240bDscr  \\\n0       0.0     0.0    0.0  ...      NaN       NaN         0.0        NaN   \n1       0.0     0.0    0.0  ...      NaN       NaN         0.0        NaN   \n2       0.0     0.0    0.0  ...      NaN       NaN         0.0        NaN   \n3       0.0     0.0    0.0  ...      NaN       NaN         0.0        NaN   \n4       0.0     0.0    0.0  ...      NaN       NaN         0.0        NaN   \n\n                      createdOn                    modifiedOn  startStop  \\\n0  Tue Jan 01 00:00:00 EST 2013  Tue Jan 01 00:00:00 EST 2013        NaN   \n1  Tue Jan 01 00:00:00 EST 2013  Tue Jan 01 00:00:00 EST 2013        NaN   \n2  Tue Jan 01 00:00:00 EST 2013  Tue Jan 01 00:00:00 EST 2013        NaN   \n3  Tue Jan 01 00:00:00 EST 2013  Tue Jan 01 00:00:00 EST 2013        NaN   \n4  Tue Jan 01 00:00:00 EST 2013  Tue Jan 01 00:00:00 EST 2013        NaN   \n\n   phevCity  phevHwy  phevComb  \n0         0        0         0  \n1         0        0         0  \n2         0        0         0  \n3         0        0         0  \n4         0        0         0  \n\n[5 rows x 83 columns]",
      "text/html": "<div>\n<style scoped>\n    .dataframe tbody tr th:only-of-type {\n        vertical-align: middle;\n    }\n\n    .dataframe tbody tr th {\n        vertical-align: top;\n    }\n\n    .dataframe thead th {\n        text-align: right;\n    }\n</style>\n<table border=\"1\" class=\"dataframe\">\n  <thead>\n    <tr style=\"text-align: right;\">\n      <th></th>\n      <th>barrels08</th>\n      <th>barrelsA08</th>\n      <th>charge120</th>\n      <th>charge240</th>\n      <th>city08</th>\n      <th>city08U</th>\n      <th>cityA08</th>\n      <th>cityA08U</th>\n      <th>cityCD</th>\n      <th>cityE</th>\n      <th>...</th>\n      <th>mfrCode</th>\n      <th>c240Dscr</th>\n      <th>charge240b</th>\n      <th>c240bDscr</th>\n      <th>createdOn</th>\n      <th>modifiedOn</th>\n      <th>startStop</th>\n      <th>phevCity</th>\n      <th>phevHwy</th>\n      <th>phevComb</th>\n    </tr>\n  </thead>\n  <tbody>\n    <tr>\n      <th>0</th>\n      <td>15.695714</td>\n      <td>0.0</td>\n      <td>0.0</td>\n      <td>0.0</td>\n      <td>19</td>\n      <td>0.0</td>\n      <td>0</td>\n      <td>0.0</td>\n      <td>0.0</td>\n      <td>0.0</td>\n      <td>...</td>\n      <td>NaN</td>\n      <td>NaN</td>\n      <td>0.0</td>\n      <td>NaN</td>\n      <td>Tue Jan 01 00:00:00 EST 2013</td>\n      <td>Tue Jan 01 00:00:00 EST 2013</td>\n      <td>NaN</td>\n      <td>0</td>\n      <td>0</td>\n      <td>0</td>\n    </tr>\n    <tr>\n      <th>1</th>\n      <td>29.964545</td>\n      <td>0.0</td>\n      <td>0.0</td>\n      <td>0.0</td>\n      <td>9</td>\n      <td>0.0</td>\n      <td>0</td>\n      <td>0.0</td>\n      <td>0.0</td>\n      <td>0.0</td>\n      <td>...</td>\n      <td>NaN</td>\n      <td>NaN</td>\n      <td>0.0</td>\n      <td>NaN</td>\n      <td>Tue Jan 01 00:00:00 EST 2013</td>\n      <td>Tue Jan 01 00:00:00 EST 2013</td>\n      <td>NaN</td>\n      <td>0</td>\n      <td>0</td>\n      <td>0</td>\n    </tr>\n    <tr>\n      <th>2</th>\n      <td>12.207778</td>\n      <td>0.0</td>\n      <td>0.0</td>\n      <td>0.0</td>\n      <td>23</td>\n      <td>0.0</td>\n      <td>0</td>\n      <td>0.0</td>\n      <td>0.0</td>\n      <td>0.0</td>\n      <td>...</td>\n      <td>NaN</td>\n      <td>NaN</td>\n      <td>0.0</td>\n      <td>NaN</td>\n      <td>Tue Jan 01 00:00:00 EST 2013</td>\n      <td>Tue Jan 01 00:00:00 EST 2013</td>\n      <td>NaN</td>\n      <td>0</td>\n      <td>0</td>\n      <td>0</td>\n    </tr>\n    <tr>\n      <th>3</th>\n      <td>29.964545</td>\n      <td>0.0</td>\n      <td>0.0</td>\n      <td>0.0</td>\n      <td>10</td>\n      <td>0.0</td>\n      <td>0</td>\n      <td>0.0</td>\n      <td>0.0</td>\n      <td>0.0</td>\n      <td>...</td>\n      <td>NaN</td>\n      <td>NaN</td>\n      <td>0.0</td>\n      <td>NaN</td>\n      <td>Tue Jan 01 00:00:00 EST 2013</td>\n      <td>Tue Jan 01 00:00:00 EST 2013</td>\n      <td>NaN</td>\n      <td>0</td>\n      <td>0</td>\n      <td>0</td>\n    </tr>\n    <tr>\n      <th>4</th>\n      <td>17.347895</td>\n      <td>0.0</td>\n      <td>0.0</td>\n      <td>0.0</td>\n      <td>17</td>\n      <td>0.0</td>\n      <td>0</td>\n      <td>0.0</td>\n      <td>0.0</td>\n      <td>0.0</td>\n      <td>...</td>\n      <td>NaN</td>\n      <td>NaN</td>\n      <td>0.0</td>\n      <td>NaN</td>\n      <td>Tue Jan 01 00:00:00 EST 2013</td>\n      <td>Tue Jan 01 00:00:00 EST 2013</td>\n      <td>NaN</td>\n      <td>0</td>\n      <td>0</td>\n      <td>0</td>\n    </tr>\n  </tbody>\n</table>\n<p>5 rows × 83 columns</p>\n</div>"
     },
     "execution_count": 10,
     "metadata": {},
     "output_type": "execute_result"
    }
   ],
   "source": [
    "# Load Vehicles Dataset\n",
    "vehicles = pd.read_csv('datasets/vehicles.csv')\n",
    "\n",
    "# Display the first few rows\n",
    "vehicles.head()\n"
   ],
   "metadata": {
    "collapsed": false,
    "ExecuteTime": {
     "end_time": "2024-11-10T01:16:34.558504Z",
     "start_time": "2024-11-10T01:16:34.390022Z"
    }
   },
   "id": "b6bf20dc4ee2e1ca",
   "execution_count": 10
  },
  {
   "cell_type": "code",
   "outputs": [
    {
     "name": "stdout",
     "output_type": "stream",
     "text": [
      "Available columns: ['barrels08', 'barrelsA08', 'charge120', 'charge240', 'city08', 'city08U', 'cityA08', 'cityA08U', 'cityCD', 'cityE', 'cityUF', 'co2', 'co2A', 'co2TailpipeAGpm', 'co2TailpipeGpm', 'comb08', 'comb08U', 'combA08', 'combA08U', 'combE', 'combinedCD', 'combinedUF', 'cylinders', 'displ', 'drive', 'engId', 'eng_dscr', 'feScore', 'fuelCost08', 'fuelCostA08', 'fuelType', 'fuelType1', 'ghgScore', 'ghgScoreA', 'highway08', 'highway08U', 'highwayA08', 'highwayA08U', 'highwayCD', 'highwayE', 'highwayUF', 'hlv', 'hpv', 'id', 'lv2', 'lv4', 'make', 'model', 'mpgData', 'phevBlended', 'pv2', 'pv4', 'range', 'rangeCity', 'rangeCityA', 'rangeHwy', 'rangeHwyA', 'trany', 'UCity', 'UCityA', 'UHighway', 'UHighwayA', 'VClass', 'year', 'youSaveSpend', 'guzzler', 'trans_dscr', 'tCharger', 'sCharger', 'atvType', 'fuelType2', 'rangeA', 'evMotor', 'mfrCode', 'c240Dscr', 'charge240b', 'c240bDscr', 'createdOn', 'modifiedOn', 'startStop', 'phevCity', 'phevHwy', 'phevComb']\n",
      "Features shape: (40081, 5613)\n",
      "Target shape: (40081,)\n"
     ]
    }
   ],
   "source": [
    "# Check for target column\n",
    "if 'mpg' in vehicles.columns:\n",
    "    target_column = 'mpg'\n",
    "elif 'emission' in vehicles.columns:\n",
    "    target_column = 'emission'\n",
    "else:\n",
    "    print(\"Available columns:\", vehicles.columns.tolist())\n",
    "    target_column = input(\"Enter the target column name from the above list: \")\n",
    "\n",
    "# Separate features and target\n",
    "X_vehicles = vehicles.drop(columns=[target_column])\n",
    "y_vehicles = vehicles[target_column]\n",
    "\n",
    "# Handle categorical variables if any\n",
    "X_vehicles = pd.get_dummies(X_vehicles, drop_first=True)\n",
    "\n",
    "# Display shapes\n",
    "print(f\"Features shape: {X_vehicles.shape}\")\n",
    "print(f\"Target shape: {y_vehicles.shape}\")\n"
   ],
   "metadata": {
    "collapsed": false,
    "ExecuteTime": {
     "end_time": "2024-11-10T01:20:58.775926Z",
     "start_time": "2024-11-10T01:20:57.356822Z"
    }
   },
   "id": "ef30aa2f79c8a644",
   "execution_count": 12
  },
  {
   "cell_type": "code",
   "outputs": [
    {
     "name": "stdout",
     "output_type": "stream",
     "text": [
      "Features shape: (569, 30)\n",
      "Target shape: (569,)\n"
     ]
    }
   ],
   "source": [
    "# Load column names from wdbc.names\n",
    "column_names = ['ID', 'Diagnosis'] + [f'Feature_{i}' for i in range(1, 31)]\n",
    "\n",
    "# Read the data\n",
    "breast_cancer = pd.read_csv('datasets/wdbc.data', header=None, names=column_names)\n",
    "\n",
    "# Drop the 'ID' column\n",
    "breast_cancer.drop('ID', axis=1, inplace=True)\n",
    "\n",
    "# Map 'Diagnosis' to binary values ('M' for malignant, 'B' for benign)\n",
    "breast_cancer['Diagnosis'] = breast_cancer['Diagnosis'].map({'M': 1, 'B': 0})\n",
    "\n",
    "# Separate features and target\n",
    "X_cancer = breast_cancer.drop('Diagnosis', axis=1)\n",
    "y_cancer = breast_cancer['Diagnosis']\n",
    "\n",
    "# Display shapes\n",
    "print(f\"Features shape: {X_cancer.shape}\")\n",
    "print(f\"Target shape: {y_cancer.shape}\")\n"
   ],
   "metadata": {
    "collapsed": false,
    "ExecuteTime": {
     "end_time": "2024-11-10T01:22:21.416953Z",
     "start_time": "2024-11-10T01:22:21.400571Z"
    }
   },
   "id": "5157c4761430f92f",
   "execution_count": 13
  },
  {
   "cell_type": "code",
   "outputs": [],
   "source": [
    "def preprocess_data(X, y, task=\"regression\"):\n",
    "    # Handle missing values\n",
    "    X = X.dropna()\n",
    "    y = y.loc[X.index]\n",
    "\n",
    "    # Ensure all data is numeric\n",
    "    if not np.issubdtype(X.dtypes.values[0], np.number):\n",
    "        X = pd.get_dummies(X, drop_first=True)\n",
    "\n",
    "    # Train-test split\n",
    "    X_train, X_test, y_train, y_test = train_test_split(\n",
    "        X, y, test_size=0.2, random_state=42\n",
    "    )\n",
    "\n",
    "    # Scaling\n",
    "    scaler = StandardScaler()\n",
    "    X_train_scaled = scaler.fit_transform(X_train)\n",
    "    X_test_scaled = scaler.transform(X_test)\n",
    "\n",
    "    return (\n",
    "        X_train,\n",
    "        X_test,\n",
    "        y_train,\n",
    "        y_test,\n",
    "        X_train_scaled,\n",
    "        X_test_scaled,\n",
    "        scaler,\n",
    "    )\n"
   ],
   "metadata": {
    "collapsed": false,
    "ExecuteTime": {
     "end_time": "2024-11-10T01:22:32.411810Z",
     "start_time": "2024-11-10T01:22:32.409750Z"
    }
   },
   "id": "ea84d8cbc31db84f",
   "execution_count": 14
  },
  {
   "cell_type": "code",
   "outputs": [],
   "source": [
    "def train_linear_model(X_train, y_train, task=\"regression\"):\n",
    "    if task == \"regression\":\n",
    "        model = LinearRegression()\n",
    "    else:\n",
    "        model = LogisticRegression(max_iter=1000)\n",
    "    model.fit(X_train, y_train)\n",
    "    return model\n"
   ],
   "metadata": {
    "collapsed": false,
    "ExecuteTime": {
     "end_time": "2024-11-10T01:22:44.986237Z",
     "start_time": "2024-11-10T01:22:44.984286Z"
    }
   },
   "id": "10d0edf78a67684b",
   "execution_count": 15
  },
  {
   "cell_type": "code",
   "outputs": [],
   "source": [
    "def train_random_forest(X_train, y_train, task=\"regression\"):\n",
    "    if task == \"regression\":\n",
    "        model = RandomForestRegressor(n_estimators=100, random_state=42)\n",
    "    else:\n",
    "        model = RandomForestClassifier(n_estimators=100, random_state=42)\n",
    "    model.fit(X_train, y_train)\n",
    "    return model\n"
   ],
   "metadata": {
    "collapsed": false,
    "ExecuteTime": {
     "end_time": "2024-11-10T01:22:50.162239Z",
     "start_time": "2024-11-10T01:22:50.159568Z"
    }
   },
   "id": "8236da297a9ef90d",
   "execution_count": 16
  },
  {
   "cell_type": "code",
   "outputs": [],
   "source": [
    "def train_ann_model(X_train_scaled, y_train, task=\"regression\"):\n",
    "    model = Sequential()\n",
    "    model.add(Dense(64, activation=\"relu\", input_shape=(X_train_scaled.shape[1],)))\n",
    "    model.add(Dense(32, activation=\"relu\"))\n",
    "    if task == \"regression\":\n",
    "        model.add(Dense(1))\n",
    "        model.compile(optimizer=\"adam\", loss=\"mse\", metrics=[\"mae\"])\n",
    "    else:\n",
    "        model.add(Dense(1, activation=\"sigmoid\"))\n",
    "        model.compile(\n",
    "            optimizer=\"adam\", loss=\"binary_crossentropy\", metrics=[\"accuracy\"]\n",
    "        )\n",
    "    model.fit(X_train_scaled, y_train, epochs=50, batch_size=16, verbose=0)\n",
    "    return model\n"
   ],
   "metadata": {
    "collapsed": false,
    "ExecuteTime": {
     "end_time": "2024-11-10T01:22:54.772192Z",
     "start_time": "2024-11-10T01:22:54.769804Z"
    }
   },
   "id": "da708f81f07e588d",
   "execution_count": 17
  },
  {
   "cell_type": "code",
   "outputs": [],
   "source": [],
   "metadata": {
    "collapsed": false
   },
   "id": "b5840d798fed55e4"
  }
 ],
 "metadata": {
  "kernelspec": {
   "display_name": "Python 3",
   "language": "python",
   "name": "python3"
  },
  "language_info": {
   "codemirror_mode": {
    "name": "ipython",
    "version": 2
   },
   "file_extension": ".py",
   "mimetype": "text/x-python",
   "name": "python",
   "nbconvert_exporter": "python",
   "pygments_lexer": "ipython2",
   "version": "2.7.6"
  }
 },
 "nbformat": 4,
 "nbformat_minor": 5
}
