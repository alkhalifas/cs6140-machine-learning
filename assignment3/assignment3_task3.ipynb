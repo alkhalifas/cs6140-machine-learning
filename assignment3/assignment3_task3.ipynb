{
 "cells": [
  {
   "cell_type": "markdown",
   "source": [],
   "metadata": {
    "collapsed": false
   },
   "id": "2e7c4f2e0152f310"
  },
  {
   "cell_type": "markdown",
   "source": [
    "# Assignment 3 - Task 3\n",
    "\n",
    "### Train a simplest possible MLP to solve the same classification problems of task 2. (25)\n",
    "\n",
    "1. Explain rationale behind your training process and design parameters\n",
    "2. Compare SVM and MLP solution in terms of computational cost\n",
    "3. Apply k-Fold cross validation\n",
    "\n",
    "\n",
    "Contents:\n",
    "\n",
    "1. Import Libraries\n",
    "\n",
    "2. Generate Datasets\n",
    "\n",
    "3. Train Simple MLP\n",
    "\n",
    "4. Explain Rationale\n",
    "\n",
    "5. Compare SVM and MLP\n",
    "\n",
    "6. Apply k-Fold cross validation\n",
    "\n",
    "7. Conclusion"
   ],
   "metadata": {
    "collapsed": false
   },
   "id": "718524a45ad3d4fa"
  },
  {
   "cell_type": "markdown",
   "source": [
    "### 1. Import Libraries:"
   ],
   "metadata": {
    "collapsed": false
   },
   "id": "e9d3f82d7f799f68"
  },
  {
   "cell_type": "code",
   "outputs": [],
   "source": [
    "import numpy as np\n",
    "import pandas as pd\n",
    "import matplotlib.pyplot as plt\n",
    "from sklearn.datasets import make_moons, make_circles\n",
    "from sklearn.model_selection import train_test_split, cross_val_score\n",
    "from sklearn.neural_network import MLPClassifier\n",
    "from sklearn.svm import SVC\n",
    "from sklearn.metrics import accuracy_score, roc_auc_score, recall_score, f1_score\n",
    "import time\n",
    "\n",
    "class ModelComparison:\n",
    "    def __init__(self, hidden_layer_sizes=(5,), max_iter=10000, kernels=['linear', 'rbf']):\n",
    "        \"\"\"\n",
    "        Initialize with params for the mlp\n",
    "        \"\"\"\n",
    "        self.hidden_layer_sizes = hidden_layer_sizes\n",
    "        self.max_iter = max_iter\n",
    "        self.kernels = kernels\n",
    "\n",
    "    def generate_dataset(self, dataset_name='moons', **kwargs):\n",
    "        \"\"\"\n",
    "        Generates dataset via name\n",
    "        \"\"\"\n",
    "        if dataset_name == 'moons':\n",
    "            X, y = make_moons(**kwargs)\n",
    "        elif dataset_name == 'circles':\n",
    "            X, y = make_circles(**kwargs)\n",
    "        else:\n",
    "            raise ValueError(\"error bad name\")\n",
    "        return X, y\n",
    "    \n",
    "    def visualize_dataset(self, X, y, dataset_name):\n",
    "        \"\"\"\n",
    "        plots dataset\n",
    "        \"\"\"\n",
    "        plt.figure(figsize=(8, 6))\n",
    "        plt.scatter(X[y == 0][:, 0], X[y == 0][:, 1], color='blue', label='Class 0')\n",
    "        plt.scatter(X[y == 1][:, 0], X[y == 1][:, 1], color='red', label='Class 1')\n",
    "        plt.title(f\"{dataset_name.capitalize()} Dataset\")\n",
    "        plt.xlabel(\"Feature 1\")\n",
    "        plt.ylabel(\"Featere 2\")\n",
    "        plt.legend()\n",
    "        plt.grid(True)\n",
    "        plt.show()\n",
    "        \n",
    "    def train_mlp(self, X, y):\n",
    "        \"\"\"\n",
    "        train mlp on dataset and return metrics\n",
    "        \"\"\"\n",
    "        # split up\n",
    "        X_train, X_test, y_train, y_test = train_test_split(X, y, test_size=0.3, random_state=1)\n",
    "        mlp = MLPClassifier(hidden_layer_sizes=self.hidden_layer_sizes, max_iter=self.max_iter, random_state=1)\n",
    "        \n",
    "        # training time\n",
    "        start_time = time.time()\n",
    "        mlp.fit(X_train, y_train)\n",
    "        train_time = time.time() - start_time\n",
    "        \n",
    "        # eval model \n",
    "        y_pred = mlp.predict(X_test)\n",
    "        y_prob = mlp.predict_proba(X_test)[:, 1]\n",
    "        accuracy = accuracy_score(y_test, y_pred)\n",
    "        roc_auc = roc_auc_score(y_test, y_prob)\n",
    "        \n",
    "        return {\"Model\": \"MLP\", \"Accuracy\": accuracy, \"ROC-AUC\": roc_auc, \"Train Time\": train_time}\n",
    "    \n",
    "    def train_simple_mlp(self, X, y, mlp_params=None):\n",
    "        \"\"\"\n",
    "        train simple MLP, playground to test the model with params\n",
    "        \"\"\"\n",
    "        # split up data\n",
    "        X_train, X_test, y_train, y_test = train_test_split(X, y, test_size=0.3, random_state=1)\n",
    "        \n",
    "        # create model with params\n",
    "        mlp = MLPClassifier(**mlp_params)\n",
    "        \n",
    "        # measure training\n",
    "        start_time = time.time()\n",
    "        mlp.fit(X_train, y_train)\n",
    "        train_time = time.time() - start_time\n",
    "        \n",
    "        # eval\n",
    "        y_pred = mlp.predict(X_test)\n",
    "        y_prob = mlp.predict_proba(X_test)[:, 1]\n",
    "        accuracy = accuracy_score(y_test, y_pred)\n",
    "        roc_auc = roc_auc_score(y_test, y_prob)\n",
    "        \n",
    "        return {\"Model\": \"MLP\", \"Accuracy\": accuracy, \"ROC-AUC\": roc_auc, \"Train Time\": train_time}\n",
    "\n",
    "\n",
    "    def train_svm(self, X, y, kernel='rbf'):\n",
    "        \"\"\"\n",
    "        train svm on dataset\n",
    "        \"\"\"\n",
    "        # split data\n",
    "        X_train, X_test, y_train, y_test = train_test_split(X, y, test_size=0.3, random_state=1)\n",
    "        \n",
    "        # create modell\n",
    "        svm = SVC(kernel=kernel, probability=True, random_state=1)\n",
    "        \n",
    "        # training time\n",
    "        start_time = time.time()\n",
    "        svm.fit(X_train, y_train)\n",
    "        train_time = time.time() - start_time\n",
    "        \n",
    "        # eval\n",
    "        y_pred = svm.predict(X_test)\n",
    "        y_prob = svm.predict_proba(X_test)[:, 1]\n",
    "        accuracy = accuracy_score(y_test, y_pred)\n",
    "        roc_auc = roc_auc_score(y_test, y_prob)\n",
    "        \n",
    "        return {\"Model\": f\"SVM ({kernel})\", \"Accuracy\": accuracy, \"ROC-AUC\": roc_auc, \"Train Time\": train_time}\n",
    "    \n",
    "    def compare_models(self, X, y):\n",
    "        \"\"\"\n",
    "        train and compare the models \n",
    "        \"\"\"\n",
    "        results = []\n",
    "        \n",
    "        # mlp\n",
    "        mlp_results = self.train_mlp(X, y)\n",
    "        results.append(mlp_results)\n",
    "        \n",
    "        # svm\n",
    "        for kernel in self.kernels:\n",
    "            svm_results = self.train_svm(X, y, kernel)\n",
    "            results.append(svm_results)\n",
    "        \n",
    "        # create DF\n",
    "        df_results = pd.DataFrame(results)\n",
    "        return df_results\n",
    "\n",
    "    def k_fold_cross_validation(self, model_type, X, y, kernel=None, k=5):\n",
    "        \"\"\"\n",
    "        performs k-fold cross validation on X and y data\n",
    "        \"\"\"\n",
    "        if model_type == \"MLP\":\n",
    "            model = MLPClassifier(hidden_layer_sizes=self.hidden_layer_sizes, max_iter=self.max_iter, random_state=1)\n",
    "        elif model_type == \"SVM\":\n",
    "            model = SVC(kernel=kernel, probability=True, random_state=1)\n",
    "        else:\n",
    "            raise ValueError(\"error bad name\")\n",
    "        \n",
    "        # scores\n",
    "        scores = cross_val_score(model, X, y, cv=k, scoring='accuracy')\n",
    "        return scores.mean()\n",
    "\n",
    "    def evaluate_and_compare(self, dataset_name='moons', noise_levels=[0.1, 0.2, 0.3]):\n",
    "        \"\"\"\n",
    "        eval and compare MLP and SVM models \n",
    "        \"\"\"\n",
    "        results = []\n",
    "        \n",
    "        # iterate over noise levels\n",
    "        for noise in noise_levels:\n",
    "            X, y = self.generate_dataset(dataset_name, noise=noise, n_samples=200, random_state=1)\n",
    "            \n",
    "            # train and compare models\n",
    "            model_results = self.compare_models(X, y)\n",
    "            model_results['Dataset'] = dataset_name\n",
    "            model_results['Noise'] = noise\n",
    "            results.append(model_results)\n",
    "        \n",
    "        # dataframe results\n",
    "        df_results = pd.concat(results, ignore_index=True)\n",
    "        return df_results\n",
    "\n",
    "\n",
    "    def evaluate_and_compare_with_cross_validation(self, dataset_name='moons', noise_levels=[0.1, 0.2, 0.3], k=5):\n",
    "        \"\"\"\n",
    "        evaluate MLP and SVM models with k fold cross validation\n",
    "        \"\"\"\n",
    "        results = []\n",
    "        \n",
    "        # noise levels loop\n",
    "        for noise in noise_levels:\n",
    "            X, y = self.generate_dataset(dataset_name, noise=noise, n_samples=200, random_state=1)\n",
    "            \n",
    "            # k Fold CV for MLP\n",
    "            mlp_cv_score = self.k_fold_cross_validation(model_type=\"MLP\", X=X, y=y, k=k)\n",
    "            mlp_results = {\n",
    "                \"Model\": \"MLP\",\n",
    "                \"Dataset\": dataset_name,\n",
    "                \"Noise\": noise,\n",
    "                \"k-Fold CV Accuracy\": mlp_cv_score\n",
    "            }\n",
    "            results.append(mlp_results)\n",
    "            \n",
    "            # CV for each SVM kernel\n",
    "            for kernel in self.kernels:\n",
    "                svm_cv_score = self.k_fold_cross_validation(model_type=\"SVM\", X=X, y=y, kernel=kernel, k=k)\n",
    "                svm_results = {\n",
    "                    \"Model\": f\"SVM ({kernel})\",\n",
    "                    \"Dataset\": dataset_name,\n",
    "                    \"Noise\": noise,\n",
    "                    \"k-Fold CV Accuracy\": svm_cv_score\n",
    "                }\n",
    "                results.append(svm_results)\n",
    "        \n",
    "        # dataframe\n",
    "        df_results = pd.DataFrame(results)\n",
    "        return df_results\n"
   ],
   "metadata": {
    "collapsed": false,
    "ExecuteTime": {
     "end_time": "2024-10-30T23:12:07.331655Z",
     "start_time": "2024-10-30T23:12:07.327482Z"
    }
   },
   "id": "e1306a7063133323",
   "execution_count": 66
  },
  {
   "cell_type": "markdown",
   "source": [
    "\n",
    "### 2. Generate and Visualize Datasets\n"
   ],
   "metadata": {
    "collapsed": false
   },
   "id": "8b15b14641d90867"
  },
  {
   "cell_type": "code",
   "outputs": [],
   "source": [
    "# create the class\n",
    "comparison = ModelComparison()\n"
   ],
   "metadata": {
    "collapsed": false,
    "ExecuteTime": {
     "end_time": "2024-10-30T23:12:08.670190Z",
     "start_time": "2024-10-30T23:12:08.667217Z"
    }
   },
   "id": "6e79bfaa2bfe9cd1",
   "execution_count": 67
  },
  {
   "cell_type": "code",
   "outputs": [
    {
     "data": {
      "text/plain": "<Figure size 800x600 with 1 Axes>",
      "image/png": "[encoded data removed]"
     },
     "metadata": {},
     "output_type": "display_data"
    },
    {
     "data": {
      "text/plain": "<Figure size 800x600 with 1 Axes>",
      "image/png": "[encoded data removed]"
     },
     "metadata": {},
     "output_type": "display_data"
    }
   ],
   "source": [
    "# create the data\n",
    "X_moons, y_moons = comparison.generate_dataset('moons', n_samples=200, noise=0.1)\n",
    "X_circles, y_circles = comparison.generate_dataset('circles', n_samples=200, noise=0.1)\n",
    "\n",
    "# compare the viauslize the results for each dataset\n",
    "comparison.visualize_dataset(X_moons, y_moons, \"moons\")\n",
    "comparison.visualize_dataset(X_circles, y_circles, \"circles\")"
   ],
   "metadata": {
    "collapsed": false,
    "ExecuteTime": {
     "end_time": "2024-10-30T23:12:12.012558Z",
     "start_time": "2024-10-30T23:12:11.827744Z"
    }
   },
   "id": "7efcbed01bc92fc2",
   "execution_count": 68
  },
  {
   "cell_type": "markdown",
   "source": [
    "### 3. Train Simple MLP"
   ],
   "metadata": {
    "collapsed": false
   },
   "id": "a99d71264df257e6"
  },
  {
   "cell_type": "code",
   "outputs": [
    {
     "name": "stdout",
     "output_type": "stream",
     "text": [
      "Simple MLP on Moons Dataset:\n",
      " {'Model': 'MLP', 'Accuracy': 0.85, 'ROC-AUC': np.float64(0.9241071428571428), 'Train Time': 0.08712005615234375}\n"
     ]
    }
   ],
   "source": [
    "custom_mlp_params = {\n",
    "    'hidden_layer_sizes': (5,),\n",
    "    'max_iter': 2000,\n",
    "    'random_state': 1\n",
    "}\n",
    "mlp_results = comparison.train_simple_mlp(X_moons, y_moons, mlp_params=custom_mlp_params)\n",
    "print(\"Simple MLP on Moons Dataset:\\n\", mlp_results)\n"
   ],
   "metadata": {
    "collapsed": false,
    "ExecuteTime": {
     "end_time": "2024-10-30T23:13:56.332436Z",
     "start_time": "2024-10-30T23:13:56.244946Z"
    }
   },
   "id": "6d8071cf1c8e6961",
   "execution_count": 69
  },
  {
   "cell_type": "code",
   "outputs": [
    {
     "name": "stdout",
     "output_type": "stream",
     "text": [
      "Simple MLP on Moons Dataset:\n",
      " {'Model': 'MLP', 'Accuracy': 0.85, 'ROC-AUC': np.float64(0.9397321428571428), 'Train Time': 0.06336712837219238}\n"
     ]
    }
   ],
   "source": [
    "custom_mlp_params = {\n",
    "    'hidden_layer_sizes': (10,), \n",
    "    'max_iter': 2000, \n",
    "    'random_state': 1\n",
    "}\n",
    "mlp_results = comparison.train_simple_mlp(X_moons, y_moons, mlp_params=custom_mlp_params)\n",
    "print(\"Simple MLP on Moons Dataset:\\n\", mlp_results)\n"
   ],
   "metadata": {
    "collapsed": false,
    "ExecuteTime": {
     "end_time": "2024-10-30T23:14:06.467440Z",
     "start_time": "2024-10-30T23:14:06.399070Z"
    }
   },
   "id": "27d54048cff16f5e",
   "execution_count": 71
  },
  {
   "cell_type": "code",
   "outputs": [
    {
     "name": "stdout",
     "output_type": "stream",
     "text": [
      "Simple MLP on Moons Dataset:\n",
      " {'Model': 'MLP', 'Accuracy': 0.9166666666666666, 'ROC-AUC': np.float64(0.96875), 'Train Time': 0.08768582344055176}\n"
     ]
    }
   ],
   "source": [
    "custom_mlp_params = {\n",
    "    'hidden_layer_sizes': (20,), \n",
    "    'max_iter': 2000, \n",
    "    'random_state': 1\n",
    "}\n",
    "mlp_results = comparison.train_simple_mlp(X_moons, y_moons, mlp_params=custom_mlp_params)\n",
    "print(\"Simple MLP on Moons Dataset:\\n\", mlp_results)\n"
   ],
   "metadata": {
    "collapsed": false,
    "ExecuteTime": {
     "end_time": "2024-10-30T23:14:09.516712Z",
     "start_time": "2024-10-30T23:14:09.424432Z"
    }
   },
   "id": "b098d10e67c4f832",
   "execution_count": 72
  },
  {
   "cell_type": "code",
   "outputs": [
    {
     "name": "stdout",
     "output_type": "stream",
     "text": [
      "Simple MLP on Moons Dataset:\n",
      " {'Model': 'MLP', 'Accuracy': 0.9666666666666667, 'ROC-AUC': np.float64(0.9966517857142857), 'Train Time': 0.21885919570922852}\n"
     ]
    }
   ],
   "source": [
    "custom_mlp_params = {\n",
    "    'hidden_layer_sizes': (50,), \n",
    "    'max_iter': 2000,\n",
    "    'random_state': 1\n",
    "}\n",
    "mlp_results = comparison.train_simple_mlp(X_moons, y_moons, mlp_params=custom_mlp_params)\n",
    "print(\"Simple MLP on Moons Dataset:\\n\", mlp_results)\n"
   ],
   "metadata": {
    "collapsed": false,
    "ExecuteTime": {
     "end_time": "2024-10-30T23:14:13.007748Z",
     "start_time": "2024-10-30T23:14:12.785684Z"
    }
   },
   "id": "731c1c04422e182d",
   "execution_count": 73
  },
  {
   "cell_type": "code",
   "outputs": [
    {
     "name": "stdout",
     "output_type": "stream",
     "text": [
      "Simple MLP on Moons Dataset:\n",
      " {'Model': 'MLP', 'Accuracy': 0.9666666666666667, 'ROC-AUC': np.float64(0.9988839285714286), 'Train Time': 0.23769426345825195}\n"
     ]
    }
   ],
   "source": [
    "custom_mlp_params = {\n",
    "    'hidden_layer_sizes': (100,), \n",
    "    'max_iter': 2000, \n",
    "    'random_state': 1\n",
    "}\n",
    "mlp_results = comparison.train_simple_mlp(X_moons, y_moons, mlp_params=custom_mlp_params)\n",
    "print(\"Simple MLP on Moons Dataset:\\n\", mlp_results)\n"
   ],
   "metadata": {
    "collapsed": false,
    "ExecuteTime": {
     "end_time": "2024-10-30T23:14:16.077378Z",
     "start_time": "2024-10-30T23:14:15.835171Z"
    }
   },
   "id": "baa263cdf87d34aa",
   "execution_count": 74
  },
  {
   "cell_type": "code",
   "outputs": [
    {
     "name": "stdout",
     "output_type": "stream",
     "text": [
      "Simple MLP on Moons Dataset:\n",
      " {'Model': 'MLP', 'Accuracy': 0.9666666666666667, 'ROC-AUC': np.float64(0.9988839285714286), 'Train Time': 0.23634815216064453}\n"
     ]
    }
   ],
   "source": [
    "custom_mlp_params = {\n",
    "    'hidden_layer_sizes': (200,), \n",
    "    'max_iter': 2000, \n",
    "    'random_state': 1\n",
    "}\n",
    "mlp_results = comparison.train_simple_mlp(X_moons, y_moons, mlp_params=custom_mlp_params)\n",
    "print(\"Simple MLP on Moons Dataset:\\n\", mlp_results)\n"
   ],
   "metadata": {
    "collapsed": false,
    "ExecuteTime": {
     "end_time": "2024-10-30T23:14:19.068455Z",
     "start_time": "2024-10-30T23:14:18.829890Z"
    }
   },
   "id": "d7c5f8fc2549b443",
   "execution_count": 75
  },
  {
   "cell_type": "code",
   "outputs": [
    {
     "name": "stdout",
     "output_type": "stream",
     "text": [
      "Simple MLP on Moons Dataset:\n",
      " {'Model': 'MLP', 'Accuracy': 0.9666666666666667, 'ROC-AUC': np.float64(0.9988839285714286), 'Train Time': 0.313220739364624}\n"
     ]
    }
   ],
   "source": [
    "custom_mlp_params = {\n",
    "    'hidden_layer_sizes': (400,), \n",
    "    'max_iter': 2000, \n",
    "    'random_state': 1\n",
    "}\n",
    "mlp_results = comparison.train_simple_mlp(X_moons, y_moons, mlp_params=custom_mlp_params)\n",
    "print(\"Simple MLP on Moons Dataset:\\n\", mlp_results)\n"
   ],
   "metadata": {
    "collapsed": false,
    "ExecuteTime": {
     "end_time": "2024-10-30T23:14:21.783380Z",
     "start_time": "2024-10-30T23:14:21.465084Z"
    }
   },
   "id": "90a004b35c6232e2",
   "execution_count": 76
  },
  {
   "cell_type": "code",
   "outputs": [
    {
     "name": "stdout",
     "output_type": "stream",
     "text": [
      "Simple MLP on Moons Dataset:\n",
      " {'Model': 'MLP', 'Accuracy': 0.95, 'ROC-AUC': np.float64(0.9966517857142857), 'Train Time': 0.23001503944396973}\n"
     ]
    }
   ],
   "source": [
    "custom_mlp_params = {\n",
    "    'hidden_layer_sizes': (30,), \n",
    "    'max_iter': 2000,  \n",
    "    'random_state': 1\n",
    "}\n",
    "mlp_results = comparison.train_simple_mlp(X_moons, y_moons, mlp_params=custom_mlp_params)\n",
    "print(\"Simple MLP on Moons Dataset:\\n\", mlp_results)\n"
   ],
   "metadata": {
    "collapsed": false,
    "ExecuteTime": {
     "end_time": "2024-10-30T23:20:50.158378Z",
     "start_time": "2024-10-30T23:20:49.927031Z"
    }
   },
   "id": "fb2f4a375ef5076",
   "execution_count": 79
  },
  {
   "cell_type": "markdown",
   "source": [
    "### 4. Explain Rationale\n"
   ],
   "metadata": {
    "collapsed": false
   },
   "id": "dcc8d4f1ca400b90"
  },
  {
   "cell_type": "markdown",
   "source": [
    "* I used single hidden layer with 5-300 neurons to explore. The more neurons, the better the model, however it does plateau at one point. Roughly 50 were sufficient in the MLP model, providing sufficient capacity to learn non-linear patterns in simple datasets like moons and circles while keeping computational cost low.\n",
    "* Default value of ReLU as the activation function in the hidden layer was efficient for training and to avoid the vanishing gradient problem\n",
    "* Using the logistic sigmoid activation in the output layer is good for binary classification, as it outputs probabilities. This helped making the model compatible with evaluation metrics like ROC-AUC which was useful for me here.\n",
    "* Application of k-fold cross validation was used to improve robustness and reliability of the accuracy results. This allowed performance comparison across models and noise levels to select the top candidates."
   ],
   "metadata": {
    "collapsed": false
   },
   "id": "d8de06e455323b7c"
  },
  {
   "cell_type": "markdown",
   "source": [
    "### 5. Compare SVM and MLP"
   ],
   "metadata": {
    "collapsed": false
   },
   "id": "11ea85113d74db4e"
  },
  {
   "cell_type": "code",
   "outputs": [
    {
     "name": "stdout",
     "output_type": "stream",
     "text": [
      "Moons Dataset Results:\n",
      "           Model  Accuracy   ROC-AUC  Train Time Dataset  Noise\n",
      "0           MLP  0.883333  0.965208    0.104192   moons    0.1\n",
      "1  SVM (linear)  0.850000  0.955107    0.006320   moons    0.1\n",
      "2     SVM (rbf)  1.000000  1.000000    0.000808   moons    0.1\n",
      "3           MLP  0.900000  0.960718    0.080908   moons    0.2\n",
      "4  SVM (linear)  0.866667  0.948373    0.001035   moons    0.2\n",
      "5     SVM (rbf)  0.966667  0.995511    0.000830   moons    0.2\n",
      "6           MLP  0.883333  0.947250    0.070053   moons    0.3\n",
      "7  SVM (linear)  0.850000  0.933782    0.001145   moons    0.3\n",
      "8     SVM (rbf)  0.933333  0.978676    0.000962   moons    0.3\n"
     ]
    }
   ],
   "source": [
    "# Train and compare models on moons dataset with noise level 0.1\n",
    "df_moons_results = comparison.evaluate_and_compare(dataset_name='moons')\n",
    "print(\"Moons Dataset Results:\\n\", df_moons_results)"
   ],
   "metadata": {
    "collapsed": false,
    "ExecuteTime": {
     "end_time": "2024-10-30T23:20:54.768931Z",
     "start_time": "2024-10-30T23:20:54.483103Z"
    }
   },
   "id": "4dfaad92a421bad3",
   "execution_count": 80
  },
  {
   "cell_type": "code",
   "outputs": [
    {
     "name": "stdout",
     "output_type": "stream",
     "text": [
      "Circles Dataset Results:\n",
      "           Model  Accuracy   ROC-AUC  Train Time  Dataset  Noise\n",
      "0           MLP  0.483333  0.561167    0.009141  circles    0.1\n",
      "1  SVM (linear)  0.450000  0.464646    0.001954  circles    0.1\n",
      "2     SVM (rbf)  0.833333  0.941639    0.001953  circles    0.1\n",
      "3           MLP  0.450000  0.547699    0.005161  circles    0.2\n",
      "4  SVM (linear)  0.450000  0.475870    0.001365  circles    0.2\n",
      "5     SVM (rbf)  0.700000  0.777778    0.001909  circles    0.2\n",
      "6           MLP  0.433333  0.524130    0.006775  circles    0.3\n",
      "7  SVM (linear)  0.450000  0.517396    0.001264  circles    0.3\n",
      "8     SVM (rbf)  0.616667  0.693603    0.001626  circles    0.3\n"
     ]
    }
   ],
   "source": [
    "# Train and compare models on circles dataset with noise level 0.1\n",
    "df_circles_results = comparison.evaluate_and_compare(dataset_name='circles')\n",
    "print(\"Circles Dataset Results:\\n\", df_circles_results)"
   ],
   "metadata": {
    "collapsed": false,
    "ExecuteTime": {
     "end_time": "2024-10-30T23:24:49.481941Z",
     "start_time": "2024-10-30T23:24:49.432530Z"
    }
   },
   "id": "2b564fb57b149323",
   "execution_count": 83
  },
  {
   "cell_type": "markdown",
   "source": [
    "* Based on the results above, the SVM models train significantly faster than MLP models with RBF SVM achieving training times under 1 millisecond. We can compare this to MLP times range up to 0.1 seconds which is far longer.\n",
    "* The MLP training time increases with increased noise levels, likely due to the added complexity and iterative weight updates needed\n",
    "* Interestingly the SVM models are less affected by noise in training speed, showing consistent training times across different noise levels. I had not expected this, but it makes sense.\n",
    "* The RBF kernel SVM consistently has the lowest computational cost compared to linear SVM and MLP. This is similar to what we saw in task 2.\n",
    "* Overall, the MLP is more computationally intensive due to its iterative backpropagation process. This makes it less efficient for simple datasets like the ones above.\n",
    "\n",
    "\n",
    "\n",
    "\n",
    "\n"
   ],
   "metadata": {
    "collapsed": false
   },
   "id": "869ab26dccc882d5"
  },
  {
   "cell_type": "markdown",
   "source": [
    "### 6. Apply k-Fold cross validation\n"
   ],
   "metadata": {
    "collapsed": false
   },
   "id": "59c08af964f1636c"
  },
  {
   "cell_type": "code",
   "outputs": [
    {
     "name": "stdout",
     "output_type": "stream",
     "text": [
      "MLP 5-Fold CV Accuracy (Moons Dataset): 0.8800000000000001\n"
     ]
    }
   ],
   "source": [
    "mlp_cv_score_moons = comparison.k_fold_cross_validation(model_type=\"MLP\", X=X_moons, y=y_moons, k=5)\n",
    "print(\"MLP 5-Fold CV Accuracy (Moons Dataset):\", mlp_cv_score_moons)\n"
   ],
   "metadata": {
    "collapsed": false,
    "ExecuteTime": {
     "end_time": "2024-10-30T23:03:21.656105Z",
     "start_time": "2024-10-30T23:03:21.127386Z"
    }
   },
   "id": "44d10eb53e814874",
   "execution_count": 33
  },
  {
   "cell_type": "code",
   "outputs": [
    {
     "name": "stdout",
     "output_type": "stream",
     "text": [
      "SVM (RBF) 5-Fold CV Accuracy (Moons Dataset): 1.0\n"
     ]
    }
   ],
   "source": [
    "svm_rbf_cv_score_moons = comparison.k_fold_cross_validation(model_type=\"SVM\", X=X_moons, y=y_moons, kernel='rbf', k=5)\n",
    "print(\"SVM (RBF) 5-Fold CV Accuracy (Moons Dataset):\", svm_rbf_cv_score_moons)\n"
   ],
   "metadata": {
    "collapsed": false,
    "ExecuteTime": {
     "end_time": "2024-10-30T23:03:21.692173Z",
     "start_time": "2024-10-30T23:03:21.680040Z"
    }
   },
   "id": "e29075e050d3edbd",
   "execution_count": 34
  },
  {
   "cell_type": "code",
   "outputs": [
    {
     "name": "stdout",
     "output_type": "stream",
     "text": [
      "SVM (Linear) 5-Fold CV Accuracy (Moons Dataset): 0.86\n"
     ]
    }
   ],
   "source": [
    "svm_linear_cv_score_moons = comparison.k_fold_cross_validation(model_type=\"SVM\", X=X_moons, y=y_moons, kernel='linear', k=5)\n",
    "print(\"SVM (Linear) 5-Fold CV Accuracy (Moons Dataset):\", svm_linear_cv_score_moons)\n"
   ],
   "metadata": {
    "collapsed": false,
    "ExecuteTime": {
     "end_time": "2024-10-30T23:03:22.132017Z",
     "start_time": "2024-10-30T23:03:22.119341Z"
    }
   },
   "id": "5aa5d20077554de4",
   "execution_count": 35
  },
  {
   "cell_type": "code",
   "outputs": [
    {
     "name": "stdout",
     "output_type": "stream",
     "text": [
      "MLP 5-Fold CV Accuracy (Circles Dataset): 0.495\n"
     ]
    }
   ],
   "source": [
    "mlp_cv_score_circles = comparison.k_fold_cross_validation(model_type=\"MLP\", X=X_circles, y=y_circles, k=5)\n",
    "print(\"MLP 5-Fold CV Accuracy (Circles Dataset):\", mlp_cv_score_circles)\n"
   ],
   "metadata": {
    "collapsed": false,
    "ExecuteTime": {
     "end_time": "2024-10-30T23:03:22.612445Z",
     "start_time": "2024-10-30T23:03:22.592902Z"
    }
   },
   "id": "25f4e819f4725899",
   "execution_count": 36
  },
  {
   "cell_type": "code",
   "outputs": [
    {
     "name": "stdout",
     "output_type": "stream",
     "text": [
      "SVM (RBF) 5-Fold CV Accuracy (Circles Dataset): 0.835\n"
     ]
    }
   ],
   "source": [
    "svm_rbf_cv_score_circles = comparison.k_fold_cross_validation(model_type=\"SVM\", X=X_circles, y=y_circles, kernel='rbf', k=5)\n",
    "print(\"SVM (RBF) 5-Fold CV Accuracy (Circles Dataset):\", svm_rbf_cv_score_circles)\n"
   ],
   "metadata": {
    "collapsed": false,
    "ExecuteTime": {
     "end_time": "2024-10-30T23:03:23.084650Z",
     "start_time": "2024-10-30T23:03:23.064368Z"
    }
   },
   "id": "2c5aa8babec3151d",
   "execution_count": 37
  },
  {
   "cell_type": "code",
   "outputs": [
    {
     "name": "stdout",
     "output_type": "stream",
     "text": [
      "SVM (Linear) 5-Fold CV Accuracy (Circles Dataset): 0.44000000000000006\n"
     ]
    }
   ],
   "source": [
    "svm_linear_cv_score_circles = comparison.k_fold_cross_validation(model_type=\"SVM\", X=X_circles, y=y_circles, kernel='linear', k=5)\n",
    "print(\"SVM (Linear) 5-Fold CV Accuracy (Circles Dataset):\", svm_linear_cv_score_circles)"
   ],
   "metadata": {
    "collapsed": false,
    "ExecuteTime": {
     "end_time": "2024-10-30T23:03:23.602056Z",
     "start_time": "2024-10-30T23:03:23.586321Z"
    }
   },
   "id": "e200aa60a69be1ab",
   "execution_count": 38
  },
  {
   "cell_type": "code",
   "outputs": [
    {
     "name": "stdout",
     "output_type": "stream",
     "text": [
      "Moons Dataset Cross-Validated Model Comparison:\n",
      "           Model Dataset  Noise  k-Fold CV Accuracy\n",
      "0           MLP   moons    0.1               0.875\n",
      "1  SVM (linear)   moons    0.1               0.880\n",
      "2     SVM (rbf)   moons    0.1               1.000\n",
      "3           MLP   moons    0.2               0.875\n",
      "4  SVM (linear)   moons    0.2               0.875\n",
      "5     SVM (rbf)   moons    0.2               0.955\n",
      "6           MLP   moons    0.3               0.865\n",
      "7  SVM (linear)   moons    0.3               0.850\n",
      "8     SVM (rbf)   moons    0.3               0.910\n"
     ]
    }
   ],
   "source": [
    "df_moons_cv_results = comparison.evaluate_and_compare_with_cross_validation(dataset_name='moons', noise_levels=[0.1, 0.2, 0.3], k=5)\n",
    "print(\"Moons Dataset Cross-Validated Model Comparison:\\n\", df_moons_cv_results)"
   ],
   "metadata": {
    "collapsed": false,
    "ExecuteTime": {
     "end_time": "2024-10-30T23:04:06.236564Z",
     "start_time": "2024-10-30T23:04:04.735431Z"
    }
   },
   "id": "7d7e86092ffd6414",
   "execution_count": 39
  },
  {
   "cell_type": "code",
   "outputs": [
    {
     "name": "stdout",
     "output_type": "stream",
     "text": [
      "Circles Dataset Cross-Validated Model Comparison:\n",
      "           Model  Dataset  Noise  k-Fold CV Accuracy\n",
      "0           MLP  circles    0.1               0.480\n",
      "1  SVM (linear)  circles    0.1               0.385\n",
      "2     SVM (rbf)  circles    0.1               0.830\n",
      "3           MLP  circles    0.2               0.475\n",
      "4  SVM (linear)  circles    0.2               0.400\n",
      "5     SVM (rbf)  circles    0.2               0.635\n",
      "6           MLP  circles    0.3               0.445\n",
      "7  SVM (linear)  circles    0.3               0.415\n",
      "8     SVM (rbf)  circles    0.3               0.560\n"
     ]
    }
   ],
   "source": [
    "df_circles_cv_results = comparison.evaluate_and_compare_with_cross_validation(dataset_name='circles', noise_levels=[0.1, 0.2, 0.3], k=5)\n",
    "print(\"Circles Dataset Cross-Validated Model Comparison:\\n\", df_circles_cv_results)"
   ],
   "metadata": {
    "collapsed": false,
    "ExecuteTime": {
     "end_time": "2024-10-30T23:29:24.413871Z",
     "start_time": "2024-10-30T23:29:24.242268Z"
    }
   },
   "id": "17554b4f0f93dbc2",
   "execution_count": 84
  },
  {
   "cell_type": "markdown",
   "source": [
    "### 7. Conclusion"
   ],
   "metadata": {
    "collapsed": false
   },
   "id": "b48a1707ed6936b"
  },
  {
   "cell_type": "markdown",
   "source": [
    "* In this project I designed a minimal MLP with a single hidden layer of 5-300 neurons compare the impact and to efficiently capture non-linear patterns in the moons and circles datasets.\n",
    "\n",
    "* To maintain the requirement of \"simple\", I used the standard ReLU activation in the hidden layer which is a sigmoid output for binary classification. In addition, I used the Adam optimizer that the MLP was designed to learn quickly and avoid vanishing gradient issues.\n",
    "\n",
    "* Overll SVM models particularly with the RBF kernel showed significantly faster training times than MLP across all noise levels, making SVM more computationally efficient for these tasks. We can also see this with the times that were captured above.\n",
    "\n",
    "* k-fold cross-validation was applied for both MLP and SVM models to get more reliable accuracy estimates.\n",
    "\n",
    "\n",
    "* Overall while SVM models are faster and computationally more efficient, the simple MLP provides flexibility for handling increased noise."
   ],
   "metadata": {
    "collapsed": false
   },
   "id": "6a5a5af44338437c"
  }
 ],
 "metadata": {
  "kernelspec": {
   "display_name": "Python 3",
   "language": "python",
   "name": "python3"
  },
  "language_info": {
   "codemirror_mode": {
    "name": "ipython",
    "version": 2
   },
   "file_extension": ".py",
   "mimetype": "text/x-python",
   "name": "python",
   "nbconvert_exporter": "python",
   "pygments_lexer": "ipython2",
   "version": "2.7.6"
  }
 },
 "nbformat": 4,
 "nbformat_minor": 5
}
